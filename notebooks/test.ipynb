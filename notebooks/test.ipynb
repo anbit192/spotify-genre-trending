{
 "cells": [
  {
   "cell_type": "code",
   "execution_count": 2,
   "metadata": {},
   "outputs": [],
   "source": [
    "import spotipy\n",
    "import numpy as np\n",
    "import pandas as pd\n",
    "from spotipy.oauth2 import SpotifyClientCredentials"
   ]
  },
  {
   "cell_type": "code",
   "execution_count": 3,
   "metadata": {},
   "outputs": [],
   "source": [
    "cli_cred_manager = SpotifyClientCredentials(client_id=\"3be9acd2dbcb4943b4573e5659d7f6ba\",client_secret=\"53e274002b594989858aa743b4e81fc3\")\n",
    "sp = spotipy.Spotify(client_credentials_manager=cli_cred_manager)"
   ]
  },
  {
   "cell_type": "code",
   "execution_count": 4,
   "metadata": {},
   "outputs": [],
   "source": [
    "genres = sp.recommendation_genre_seeds()"
   ]
  },
  {
   "cell_type": "code",
   "execution_count": null,
   "metadata": {},
   "outputs": [
    {
     "data": {
      "text/plain": [
       "array(['acoustic', 'afrobeat', 'alt-rock', 'alternative', 'ambient',\n",
       "       'anime', 'black-metal', 'bluegrass', 'blues', 'bossanova',\n",
       "       'brazil', 'breakbeat', 'british', 'cantopop', 'chicago-house',\n",
       "       'children', 'chill', 'classical', 'club', 'comedy', 'country',\n",
       "       'dance', 'dancehall', 'death-metal', 'deep-house',\n",
       "       'detroit-techno', 'disco', 'disney', 'drum-and-bass', 'dub',\n",
       "       'dubstep', 'edm', 'electro', 'electronic', 'emo', 'folk', 'forro',\n",
       "       'french', 'funk', 'garage', 'german', 'gospel', 'goth',\n",
       "       'grindcore', 'groove', 'grunge', 'guitar', 'happy', 'hard-rock',\n",
       "       'hardcore', 'hardstyle', 'heavy-metal', 'hip-hop', 'holidays',\n",
       "       'honky-tonk', 'house', 'idm', 'indian', 'indie', 'indie-pop',\n",
       "       'industrial', 'iranian', 'j-dance', 'j-idol', 'j-pop', 'j-rock',\n",
       "       'jazz', 'k-pop', 'kids', 'latin', 'latino', 'malay', 'mandopop',\n",
       "       'metal', 'metal-misc', 'metalcore', 'minimal-techno', 'movies',\n",
       "       'mpb', 'new-age', 'new-release', 'opera', 'pagode', 'party',\n",
       "       'philippines-opm', 'piano', 'pop', 'pop-film', 'post-dubstep',\n",
       "       'power-pop', 'progressive-house', 'psych-rock', 'punk',\n",
       "       'punk-rock', 'r-n-b', 'rainy-day', 'reggae', 'reggaeton',\n",
       "       'road-trip', 'rock', 'rock-n-roll', 'rockabilly', 'romance', 'sad',\n",
       "       'salsa', 'samba', 'sertanejo', 'show-tunes', 'singer-songwriter',\n",
       "       'ska', 'sleep', 'songwriter', 'soul', 'soundtracks', 'spanish',\n",
       "       'study', 'summer', 'swedish', 'synth-pop', 'tango', 'techno',\n",
       "       'trance', 'trip-hop', 'turkish', 'work-out', 'world-music'],\n",
       "      dtype='<U17')"
      ]
     },
     "execution_count": 12,
     "metadata": {},
     "output_type": "execute_result"
    }
   ],
   "source": [
    "np.unique(genres)"
   ]
  },
  {
   "cell_type": "code",
   "execution_count": 39,
   "metadata": {},
   "outputs": [],
   "source": [
    "res = sp.search(\"genre:viet-indie+v-pop\", type=\"track\", offset=5)"
   ]
  },
  {
   "cell_type": "code",
   "execution_count": 19,
   "metadata": {},
   "outputs": [
    {
     "data": {
      "text/plain": [
       "dict_keys(['href', 'items', 'limit', 'next', 'offset', 'previous', 'total'])"
      ]
     },
     "execution_count": 19,
     "metadata": {},
     "output_type": "execute_result"
    }
   ],
   "source": [
    "res[\"tracks\"].keys()"
   ]
  },
  {
   "cell_type": "code",
   "execution_count": 40,
   "metadata": {},
   "outputs": [],
   "source": [
    "items = res[\"tracks\"][\"items\"]"
   ]
  },
  {
   "cell_type": "code",
   "execution_count": 42,
   "metadata": {},
   "outputs": [
    {
     "name": "stdout",
     "output_type": "stream",
     "text": [
      "Không Yêu Em Thì Yêu Ai? : 63 : Vũ.\n",
      "Chạy Khỏi Thế Giới Này : 62 : Da LAB\n",
      "Vì Anh Đâu Có Biết : 62 : Madihu\n",
      "Crush 2 : 58 : W/N\n",
      "Bầu Trời Mới : 60 : Da LAB\n",
      "nếu lúc đó : 56 : tlinh\n",
      "id 072019 : 63 : W/N\n",
      "Đi Về Nhà : 58 : Đen\n",
      "Bầu Trời Mới : 61 : Da LAB\n",
      "Nếu Những Tiếc Nuối : 59 : Vũ.\n"
     ]
    }
   ],
   "source": [
    "for item in items:\n",
    "    print(f'{item[\"name\"]} : {item[\"popularity\"]} : {item[\"artists\"][0][\"name\"]}')"
   ]
  },
  {
   "cell_type": "code",
   "execution_count": 50,
   "metadata": {},
   "outputs": [
    {
     "name": "stdout",
     "output_type": "stream",
     "text": [
      "Cantaloupe Island - Remastered 1999/Rudy Van Gelder Edition : 59\n",
      "Générique - Bande originale du film \"Ascenseur pour l'échafaud\" : 55\n",
      "So What (feat. John Coltrane, Cannonball Adderley & Bill Evans) : 54\n",
      "Last Train Home : 52\n",
      "Walk Like a Motherfucker : 50\n",
      "Morning Dance : 50\n",
      "Freddie Freeloader (feat. John Coltrane, Cannonball Adderley, Wynton Kelly & Paul Chambers) : 54\n",
      "Watermelon Man : 51\n",
      "Hide - Slow : 55\n",
      "'Round Midnight (feat. John Coltrane, Red Garland, Paul Chambers & Philly Joe Jones) : 53\n"
     ]
    }
   ],
   "source": [
    "for item in items:\n",
    "    print(f'{item[\"name\"]} : {item[\"popularity\"]}')"
   ]
  },
  {
   "cell_type": "markdown",
   "metadata": {},
   "source": [
    "Track ID\n",
    "\n",
    "Track name\n",
    "\n",
    "Track Popularity\n",
    "\n",
    "Track's Audio Feats\n",
    "\n",
    "Artist ID\n",
    "\n",
    "Album ID\n",
    "\n",
    "Artist Genre\n",
    "\n",
    "Album Genre\n",
    "\n",
    "Lyrics\n",
    "\n",
    "Artist Popularity\n"
   ]
  },
  {
   "cell_type": "code",
   "execution_count": null,
   "metadata": {},
   "outputs": [
    {
     "name": "stdout",
     "output_type": "stream",
     "text": [
      "acoustic\n",
      "afrobeat\n",
      "alt-rock\n",
      "alternative\n",
      "ambient\n",
      "anime\n",
      "black-metal\n",
      "bluegrass\n",
      "blues\n",
      "bossanova\n",
      "brazil\n",
      "breakbeat\n",
      "british\n",
      "cantopop\n",
      "chicago-house\n",
      "children\n",
      "chill\n",
      "classical\n",
      "club\n",
      "comedy\n",
      "country\n",
      "dance\n",
      "dancehall\n",
      "death-metal\n",
      "deep-house\n",
      "detroit-techno\n",
      "disco\n",
      "disney\n",
      "drum-and-bass\n",
      "dub\n",
      "dubstep\n",
      "edm\n",
      "electro\n",
      "electronic\n",
      "emo\n",
      "folk\n",
      "forro\n",
      "french\n",
      "funk\n",
      "garage\n",
      "german\n",
      "gospel\n",
      "goth\n",
      "grindcore\n",
      "groove\n",
      "grunge\n",
      "guitar\n",
      "happy\n",
      "hard-rock\n",
      "hardcore\n",
      "hardstyle\n",
      "heavy-metal\n",
      "hip-hop\n",
      "holidays\n",
      "honky-tonk\n",
      "house\n",
      "idm\n",
      "indian\n",
      "indie\n",
      "indie-pop\n",
      "industrial\n",
      "iranian\n",
      "j-dance\n",
      "j-idol\n",
      "j-pop\n",
      "j-rock\n",
      "jazz\n",
      "k-pop\n",
      "kids\n",
      "latin\n",
      "latino\n",
      "malay\n",
      "mandopop\n",
      "metal\n",
      "metal-misc\n",
      "metalcore\n",
      "minimal-techno\n",
      "movies\n",
      "mpb\n",
      "new-age\n",
      "new-release\n",
      "opera\n",
      "pagode\n",
      "party\n",
      "philippines-opm\n",
      "piano\n",
      "pop\n",
      "pop-film\n",
      "post-dubstep\n",
      "power-pop\n",
      "progressive-house\n",
      "psych-rock\n",
      "punk\n",
      "punk-rock\n",
      "r-n-b\n",
      "rainy-day\n",
      "reggae\n",
      "reggaeton\n",
      "road-trip\n",
      "rock\n",
      "rock-n-roll\n",
      "rockabilly\n",
      "romance\n",
      "sad\n",
      "salsa\n",
      "samba\n",
      "sertanejo\n",
      "show-tunes\n",
      "singer-songwriter\n",
      "ska\n",
      "sleep\n",
      "songwriter\n",
      "soul\n",
      "soundtracks\n",
      "spanish\n",
      "study\n",
      "summer\n",
      "swedish\n",
      "synth-pop\n",
      "tango\n",
      "techno\n",
      "trance\n",
      "trip-hop\n",
      "turkish\n",
      "work-out\n",
      "world-music\n"
     ]
    }
   ],
   "source": [
    "track_name = []\n",
    "artist_name = []\n",
    "album_name = []\n",
    "genre = []\n",
    "duration_ms = []\n",
    "popularity = []\n",
    "explicit = []\n",
    "track_id = []\n",
    "artist_id = []\n",
    "track_popularity = []\n",
    "artist_popularity = []\n",
    "artist_genre = []\n",
    "\n",
    "# Iterate through each genre\n",
    "for g in genres[\"genres\"]:\n",
    "    # Requests are limited to 50 units, so we need multiple API requests to get 1000 songs per genre\n",
    "    for i in range(0,1000,50):\n",
    "        q = 'genre:'+str(g)\n",
    "        # Store API request results in a variable for extraction\n",
    "        genre_results = sp.search(q=q, type='track', limit=50,offset=i)\n",
    "        # Iterate through tracks and store relevant information in lists\n",
    "        for i, t in enumerate(genre_results['tracks']['items']):\n",
    "            track_name.append(t['name'])\n",
    "            artist_name.append(t['artists'][0]['name'])\n",
    "            album_name.append(t['album']['name'])\n",
    "            genre.append(g)\n",
    "            duration_ms.append(t['duration_ms'])\n",
    "            popularity.append(t['popularity'])\n",
    "            explicit.append(t['explicit'])\n",
    "            track_id.append(t['id'])\n",
    "            artist_id.append(t['artists'][0]['id'])\n",
    "\n",
    "\n"
   ]
  },
  {
   "cell_type": "code",
   "execution_count": null,
   "metadata": {},
   "outputs": [],
   "source": []
  }
 ],
 "metadata": {
  "kernelspec": {
   "display_name": "Python 3",
   "language": "python",
   "name": "python3"
  },
  "language_info": {
   "codemirror_mode": {
    "name": "ipython",
    "version": 3
   },
   "file_extension": ".py",
   "mimetype": "text/x-python",
   "name": "python",
   "nbconvert_exporter": "python",
   "pygments_lexer": "ipython3",
   "version": "3.11.3"
  }
 },
 "nbformat": 4,
 "nbformat_minor": 2
}
