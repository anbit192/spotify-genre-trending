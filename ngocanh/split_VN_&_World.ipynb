{
 "cells": [
  {
   "cell_type": "code",
   "execution_count": 4,
   "metadata": {},
   "outputs": [],
   "source": [
    "import pandas as pd\n",
    "\n",
    "# Đọc dữ liệu từ file CSV\n",
    "data = pd.read_csv('D:/DH/Truc quan hoa/spotify daily 021124/universal_top_spotify_songs.csv')\n",
    "\n",
    "# Tách dữ liệu thành hai DataFrame dựa trên trường 'country'\n",
    "data_null = data[data['country'].isnull()]\n",
    "data_vn = data[data['country'] == 'VN']\n",
    "\n",
    "# Lưu dữ liệu vào hai file CSV\n",
    "data_null.to_csv('split data/021124_world.csv', index=False)\n",
    "data_vn.to_csv('split data/021124_vn.csv', index=False)"
   ]
  }
 ],
 "metadata": {
  "kernelspec": {
   "display_name": "Python 3",
   "language": "python",
   "name": "python3"
  },
  "language_info": {
   "codemirror_mode": {
    "name": "ipython",
    "version": 3
   },
   "file_extension": ".py",
   "mimetype": "text/x-python",
   "name": "python",
   "nbconvert_exporter": "python",
   "pygments_lexer": "ipython3",
   "version": "3.12.1"
  }
 },
 "nbformat": 4,
 "nbformat_minor": 2
}
